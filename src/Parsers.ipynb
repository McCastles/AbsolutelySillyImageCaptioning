{
 "cells": [
  {
   "cell_type": "code",
   "execution_count": null,
   "metadata": {},
   "outputs": [],
   "source": [
    "import pandas as pd"
   ]
  },
  {
   "cell_type": "code",
   "execution_count": null,
   "metadata": {},
   "outputs": [],
   "source": [
    "gender_mask = {\n",
    "    'girl': 1,\n",
    "    'woman': 1,\n",
    "    'man': -1,\n",
    "    'boy': -1,\n",
    "    'guy': -1,\n",
    "    'person': 0,\n",
    "    'people': 0,\n",
    "    'artist': 0\n",
    "}"
   ]
  },
  {
   "cell_type": "code",
   "execution_count": 1,
   "metadata": {},
   "outputs": [],
   "source": [
    "def parse_labels( ll_org ):\n",
    "    \n",
    "    \n",
    "    \n",
    "    mm = [ noun for noun in ll_org if (noun == 'person') ]\n",
    "    ll = [ noun for noun in ll_org if not (noun == 'person') ]\n",
    "\n",
    "    how_many_persons = len(mm)\n",
    "    \n",
    "    mask = {\n",
    "        'dining table': 'table',\n",
    "        'potted plant': 'plant',\n",
    "        'hair drier': 'drier',\n",
    "        'baseball glove': 'glove',\n",
    "        'tennis racket': 'racket',\n",
    "        'wine glass': 'glass'\n",
    "\n",
    "    }\n",
    "\n",
    "    for m, r in mask.items():\n",
    "\n",
    "        for i, label in enumerate(ll):\n",
    "            if label == m:\n",
    "                ll[i] = r\n",
    "    \n",
    "    return ll, list(set(ll)), how_many_persons"
   ]
  },
  {
   "cell_type": "code",
   "execution_count": 2,
   "metadata": {},
   "outputs": [],
   "source": [
    "def plural( word ):\n",
    "    \n",
    "    if word.endswith('s'):\n",
    "        return word + 'es'\n",
    "    else:\n",
    "        return word + 's'"
   ]
  },
  {
   "cell_type": "code",
   "execution_count": null,
   "metadata": {},
   "outputs": [],
   "source": [
    "def prep( word ):\n",
    "    \n",
    "    return 'an' if (word[0] in 'a, e, i, o, u, y'.split(', ')) else 'a'"
   ]
  },
  {
   "cell_type": "code",
   "execution_count": 3,
   "metadata": {},
   "outputs": [],
   "source": [
    "def clustering( ll ):\n",
    "    \n",
    "    clusters = {}\n",
    "    \n",
    "    dist = pd.Series(ll).value_counts().to_dict()\n",
    "    \n",
    "    for k, v in dist.items():\n",
    "        if v == 1:\n",
    "            clusters[k] = f'{prep(k)} {k}'\n",
    "        elif v == 2:\n",
    "            clusters[k] = f'a pair of {plural(k)}'\n",
    "        elif v == 3:\n",
    "            clusters[k] = f'three {plural(k)}'\n",
    "        else:\n",
    "            clusters[k] = f'a number of {plural(k)}'\n",
    "            \n",
    "    \n",
    "    return clusters"
   ]
  },
  {
   "cell_type": "code",
   "execution_count": 4,
   "metadata": {},
   "outputs": [],
   "source": [
    "def cluster_added( BoW, ll_uniq, clusters ):\n",
    "\n",
    "    for added in BoW.difference( set(ll_uniq) ):\n",
    "        clusters[added] = f'{prep(added)} {added}'\n",
    "        \n",
    "    \n",
    "    if ('bedroom' in BoW) and ('room' in BoW):\n",
    "        BoW.remove('room')\n",
    "        clusters.pop('room', None)"
   ]
  },
  {
   "cell_type": "code",
   "execution_count": 5,
   "metadata": {},
   "outputs": [],
   "source": [
    "def personification( how_many_persons, peoples, BoW, clusters ):\n",
    "    \n",
    "    if how_many_persons == 1:\n",
    "\n",
    "        cum = 0\n",
    "\n",
    "        for p in peoples:\n",
    "            if p in gender_mask.keys():\n",
    "                cum += gender_mask[ p ]\n",
    "\n",
    "        label = 'woman' if cum > 0 else 'man'\n",
    "        BoW.add( label )\n",
    "        clusters[ label ] = f'a {label}'\n",
    "\n",
    "\n",
    "    elif how_many_persons == 2:\n",
    "        BoW.add('people')\n",
    "        clusters['people'] = 'a pair of people'\n",
    "\n",
    "\n",
    "    elif how_many_persons > 2:\n",
    "        BoW.add('people')\n",
    "        clusters['people'] = 'people'\n"
   ]
  },
  {
   "cell_type": "code",
   "execution_count": null,
   "metadata": {},
   "outputs": [],
   "source": [
    "print('''\n",
    "Imported functions for use outside:\n",
    "\n",
    "\\tpersonification( how_many_persons, peoples, BoW, clusters )\n",
    "\n",
    "\\tcluster_added( BoW, ll_uniq, clusters )\n",
    "\n",
    "\\tclustering( ll )\n",
    "\n",
    "\\tparse_labels( ll_org )\n",
    "\n",
    "''')"
   ]
  }
 ],
 "metadata": {
  "kernelspec": {
   "display_name": "Python 3",
   "language": "python",
   "name": "python3"
  },
  "language_info": {
   "codemirror_mode": {
    "name": "ipython",
    "version": 3
   },
   "file_extension": ".py",
   "mimetype": "text/x-python",
   "name": "python",
   "nbconvert_exporter": "python",
   "pygments_lexer": "ipython3",
   "version": "3.7.4"
  }
 },
 "nbformat": 4,
 "nbformat_minor": 2
}
