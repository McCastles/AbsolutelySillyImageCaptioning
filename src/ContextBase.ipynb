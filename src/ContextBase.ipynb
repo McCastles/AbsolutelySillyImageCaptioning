{
 "cells": [
  {
   "cell_type": "code",
   "execution_count": null,
   "metadata": {},
   "outputs": [],
   "source": [
    "import pandas as pd\n",
    "import seaborn as sns\n",
    "import os, json\n",
    "from collections import Counter\n",
    "from itertools import chain, combinations, cycle\n",
    "\n",
    "import matplotlib.pyplot  as plt\n",
    "import seaborn as sns\n",
    "from skimage import io\n",
    "\n",
    "\n",
    "import nltk"
   ]
  },
  {
   "cell_type": "code",
   "execution_count": null,
   "metadata": {},
   "outputs": [],
   "source": [
    "pd.set_option(\"display.max_rows\", None, \"display.max_columns\", None)"
   ]
  },
  {
   "cell_type": "code",
   "execution_count": null,
   "metadata": {},
   "outputs": [],
   "source": [
    "black_list = ['i', 'background', '/', 'image', 'icon', 'illustration', 'view', 'garden']"
   ]
  },
  {
   "cell_type": "code",
   "execution_count": null,
   "metadata": {},
   "outputs": [],
   "source": [
    "cc = pd.read_csv('../data/gcc_train.tsv', sep='\\t', names=['Caption', 'URL'])\n",
    "# print(cc.shape)\n"
   ]
  },
  {
   "cell_type": "code",
   "execution_count": null,
   "metadata": {},
   "outputs": [],
   "source": [
    "def show_img(url):\n",
    "    \n",
    "    image=io.imread (url)\n",
    "\n",
    "    plt.imshow(image)\n",
    "    plt.show()"
   ]
  },
  {
   "cell_type": "code",
   "execution_count": null,
   "metadata": {},
   "outputs": [],
   "source": [
    "def show_sent(row_id):\n",
    "    \n",
    "    r = cc.loc[row_id]\n",
    "    caption, url = r[0], r[1]\n",
    "    \n",
    "    print(caption)\n",
    "    print(url)\n",
    "    \n",
    "    return caption, url"
   ]
  },
  {
   "cell_type": "code",
   "execution_count": null,
   "metadata": {},
   "outputs": [],
   "source": [
    "def find_all_occ( label_list ):\n",
    "    \n",
    "    dcc = cc.copy()\n",
    "    \n",
    "    for label in label_list:\n",
    "        dcc = dcc[\n",
    "            dcc[\"Caption\"].apply( lambda x : f' {label} ' in x )\n",
    "        ]\n",
    "    \n",
    "    return dcc\n",
    "\n",
    "\n",
    "# find_all_occ(['stop sign', 'icon']).head()"
   ]
  },
  {
   "cell_type": "markdown",
   "metadata": {},
   "source": [
    "## Building Context"
   ]
  },
  {
   "cell_type": "code",
   "execution_count": null,
   "metadata": {
    "scrolled": false
   },
   "outputs": [],
   "source": [
    "def extract_nouns(row, noun=1, v=False):\n",
    "    \n",
    "    nouns = []\n",
    "    \n",
    "    if v:\n",
    "        print(row)\n",
    "        \n",
    "    for t in row:\n",
    "        if t[1].startswith('NN'):\n",
    "            nouns.append(t[0])\n",
    "    \n",
    "    return nouns\n",
    "\n",
    "\n",
    "def build_ond_for_label(label_list, nouns_needed=1, v=False):\n",
    "    \n",
    "    subset = find_all_occ( label_list )\n",
    "\n",
    "    batch = subset['Caption'].apply(nltk.word_tokenize).apply(nltk.pos_tag)\n",
    "\n",
    "    ond = pd.DataFrame(\n",
    "        {\n",
    "            'Tagged': batch,\n",
    "            'Nouns': batch.apply(extract_nouns)\n",
    "            \n",
    "        })\n",
    "    \n",
    "    \n",
    "    \n",
    "    ond['GoodNounsNumber'] = ond['Nouns'].apply(lambda x: len(x)==nouns_needed)\n",
    "    \n",
    "#     return ond\n",
    "\n",
    "    ond = ond[ond['GoodNounsNumber'] == True]\n",
    "    \n",
    "    if v:\n",
    "        print('\\nCaptions with ', nouns_needed, ' nouns that include the word \"', label, '\" found: ', ond.shape[0], sep='')\n",
    "\n",
    "    return ond[['Tagged', 'Nouns']]"
   ]
  },
  {
   "cell_type": "code",
   "execution_count": null,
   "metadata": {},
   "outputs": [],
   "source": [
    "def capt_hash(noun_list):\n",
    "    return sum([ hash(noun) for noun in noun_list ])\n",
    "    \n",
    "capt_hash(['chair', 'porch']) == capt_hash(['porch', 'chair'])"
   ]
  },
  {
   "cell_type": "code",
   "execution_count": null,
   "metadata": {
    "scrolled": false
   },
   "outputs": [],
   "source": [
    "def remove_tail( df, v=False, rt=2 ):\n",
    "    \n",
    "    for i in range(rt):\n",
    "    \n",
    "        mm = min(df['Freq'])\n",
    "        past_len_df = len(df)\n",
    "\n",
    "        df = df[ df['Freq'] > mm ]\n",
    "\n",
    "        if v:\n",
    "            print('Filtered', past_len_df-len(df), 'pairs')\n",
    "            print('Now minimum freq is', df['Freq'].min())\n",
    "            print('Remaining samples:', len(df), '\\n')\n",
    "    \n",
    "    freq_dict = {}\n",
    "    tag_dict = {}\n",
    "\n",
    "    for i, row in df.iterrows():\n",
    "        \n",
    "        for noun in row['ContextNouns']:\n",
    "            if not (noun in freq_dict.keys()):\n",
    "                freq_dict[noun] = row['Freq']*100\n",
    "            if not (noun in tag_dict.keys()):\n",
    "                tag_dict[noun] = []\n",
    "            tag_dict[noun].append( row['Tagged'] )\n",
    "        \n",
    "    \n",
    "    return tag_dict, freq_dict"
   ]
  },
  {
   "cell_type": "code",
   "execution_count": null,
   "metadata": {
    "scrolled": false
   },
   "outputs": [],
   "source": [
    "\n",
    "# scope == how many nouns in a sentence\n",
    "\n",
    "def build_context( label, scope=2, rt=2, v=False):\n",
    "    \n",
    "    \n",
    "    # FIXED NOUN NUMBER DATASET \n",
    "    b = build_ond_for_label( [label], nouns_needed=scope)\n",
    "    \n",
    "    # HASHING\n",
    "    b['ContextNouns'] = b['Nouns'].apply(\n",
    "        lambda x: [n for n in x if n != label ]\n",
    "    )\n",
    "    b['Hash'] = b['ContextNouns'].apply(capt_hash)\n",
    "    \n",
    "    \n",
    "    # FREQ DISTRIBUTION\n",
    "    dist = b['Hash'].value_counts()\n",
    "    sum_dist = sum(dist)\n",
    "\n",
    "    \n",
    "\n",
    "    b['Freq'] = b['Hash'].apply(lambda h: dist[h] / sum_dist)\n",
    "\n",
    "    \n",
    "    b = b.sort_values(by=['Freq'], ascending=False) \n",
    "    \n",
    "    if v:\n",
    "        print(f'\\n========================\\n{label} orig samples:', len(b), '\\n========================\\n')\n",
    "    \n",
    "    \n",
    "    tag_dict, freq_dict = remove_tail( b, v, rt )\n",
    "\n",
    "    for persona_non_grata in black_list:\n",
    "        tag_dict.pop(persona_non_grata, None)\n",
    "        freq_dict.pop(persona_non_grata, None)\n",
    "    \n",
    "    print(f'Built context for \"{label}\": {len(b)} sentences, {len(freq_dict)} unique nouns.')\n",
    "    \n",
    "    return {\n",
    "\n",
    "        'freq_dict': freq_dict,\n",
    "        'tag_dict': tag_dict,\n",
    "        'noun_set': set( freq_dict.keys() )\n",
    "    }\n",
    "\n",
    "\n",
    "\n",
    "    "
   ]
  },
  {
   "cell_type": "code",
   "execution_count": null,
   "metadata": {},
   "outputs": [],
   "source": [
    "# build_context('dining table')['tag_dict']['background']"
   ]
  },
  {
   "cell_type": "markdown",
   "metadata": {},
   "source": [
    "## Umbrella Test"
   ]
  },
  {
   "cell_type": "code",
   "execution_count": null,
   "metadata": {
    "scrolled": false
   },
   "outputs": [],
   "source": [
    "# umb_context = build_context( 'umbrella', v=True )\n",
    "# umb_context"
   ]
  },
  {
   "cell_type": "markdown",
   "metadata": {},
   "source": [
    "## Intersection"
   ]
  },
  {
   "cell_type": "code",
   "execution_count": null,
   "metadata": {
    "scrolled": false
   },
   "outputs": [],
   "source": [
    "def find_intersect( label_list, context_base ):\n",
    "    \n",
    "    \n",
    "    sub_dict = { label:context_base[label] for label in label_list }\n",
    "\n",
    "    set_list = [ v['noun_set'] for v in sub_dict.values() ]\n",
    "    \n",
    "    cum_intersection = set_list[0].intersection( *set_list[1:] )\n",
    "    \n",
    "    df = pd.DataFrame( cum_intersection, columns=['mutual_label'] )\n",
    "    \n",
    "    for label, context in sub_dict.items():\n",
    "    \n",
    "        fd = context['freq_dict']\n",
    "        \n",
    "        df[ f'freq_with_{label}' ] = df['mutual_label'].apply( lambda l: fd[l] )\n",
    "    \n",
    "    \n",
    "    df[ 'mutual_freq' ] = df.iloc[:, 1:].prod( axis=1 )\n",
    "    \n",
    "    df = df.sort_values(by=['mutual_freq'], ascending=False)\n",
    "    \n",
    "    \n",
    "    \n",
    "#     df = df[ ~ df['mutual_label'].isin( black_list ) ].reset_index(drop=True)\n",
    "    return df\n"
   ]
  },
  {
   "cell_type": "code",
   "execution_count": null,
   "metadata": {},
   "outputs": [],
   "source": [
    "color_cycle = cycle(\n",
    "    ['#ff7f0e', '#2ca02c', '#d62728', '#9467bd', '#8c564b', '#e377c2', '#7f7f7f', '#bcbd22', '#17becf']\n",
    ")"
   ]
  },
  {
   "cell_type": "code",
   "execution_count": null,
   "metadata": {},
   "outputs": [],
   "source": []
  },
  {
   "cell_type": "code",
   "execution_count": null,
   "metadata": {},
   "outputs": [],
   "source": [
    "def both_context_bases( label_list, cb_dict, allcolor=False, v=True ):\n",
    "    \n",
    "    color = '#1f77b4' if allcolor else next( color_cycle )\n",
    "    \n",
    "    h = 10\n",
    "    inter2 = find_intersect( label_list, cb_dict['2'] ).head(h)\n",
    "    inter3 = find_intersect( label_list, cb_dict['3'] ).head(h)\n",
    "    \n",
    "    fig, axs = plt.subplots(2, figsize=(10,4))\n",
    "    fig.suptitle(label_list)\n",
    "    \n",
    "    axs[0].bar( inter2['mutual_label'], inter2['mutual_freq'].values, color=color )\n",
    "    axs[1].bar( inter3['mutual_label'], inter3['mutual_freq'].values, color=color )\n",
    "    \n",
    "    vote = set(inter2['mutual_label']).intersection( set(inter3['mutual_label']) )\n",
    "    \n",
    "    top_freq3 = set(inter3[ inter3['mutual_freq'] >= 1 ]['mutual_label'])\n",
    "    top_freq2 = set(inter2[ inter2['mutual_freq'] >= 1 ]['mutual_label'])\n",
    "    tf = top_freq2.union(top_freq3) #.difference( vote )\n",
    "    \n",
    "    if v:\n",
    "        print(f'\\n\\n{\", \".join(label_list)} (Context Base 2)')\n",
    "        print('', 13 * '=' * inter2.shape[1] )\n",
    "        print(inter2.head(h))\n",
    "        print('\\n')\n",
    "        print(f'{\", \".join(label_list)} (Context Base 3)')\n",
    "        print(inter3.head(h))\n",
    "        print('\\nVote:', vote)\n",
    "        print('Top Frequency:', tf)\n",
    "    \n",
    "        \n",
    "    return vote, tf\n"
   ]
  },
  {
   "cell_type": "code",
   "execution_count": null,
   "metadata": {},
   "outputs": [],
   "source": [
    "person_names = {\n",
    "    'person',\n",
    "    'man',\n",
    "    'woman',\n",
    "    'artist',\n",
    "    'people',\n",
    "    'boy',\n",
    "    'girl'\n",
    "}"
   ]
  },
  {
   "cell_type": "code",
   "execution_count": null,
   "metadata": {
    "scrolled": false
   },
   "outputs": [],
   "source": [
    "def build_bow( label_list, cb_dict, v=True ):\n",
    "    \n",
    "    bow, tf = both_context_bases( label_list, cb_dict, allcolor=True, v=v )\n",
    "    \n",
    "    bow_org = bow\n",
    "    \n",
    "    \n",
    "    \n",
    "    # POSSIBLE NOUN SETS\n",
    "    \n",
    "    pns_list = []\n",
    "    \n",
    "    for pair in combinations(label_list, 2):\n",
    "        \n",
    "        vote, tf_small = both_context_bases( pair, cb_dict, v=v )\n",
    "        pns_list.append( vote )\n",
    "        bow = bow.union( tf_small )\n",
    "#         print(f'Adding {tf_small} to BoW')\n",
    "        \n",
    "    \n",
    "    for pns_pair in combinations(pns_list, 2):\n",
    "        \n",
    "        common = pns_pair[0].intersection( pns_pair[1] )\n",
    "        bow = bow.union(common)\n",
    "#         print(f'Adding {common} to BoW')\n",
    "        \n",
    "    bow = bow.union(tf)\n",
    "#     print(f'Adding {tf} to BoW')\n",
    "    \n",
    "    peoples = person_names.intersection( bow )\n",
    "    bow = bow.difference( peoples )\n",
    "    \n",
    "    \n",
    "    bow = bow.union( set(label_list) )\n",
    "    \n",
    "    \n",
    "    if v:\n",
    "        print(f'\\nOriginal labels ({len(label_list)} total):', *label_list)\n",
    "        print(f'Original vote ({len(bow_org)} total):', bow_org)\n",
    "#     print('Added by initial vote:', bow_org.difference(set(label_list)))\n",
    "    \n",
    "    \n",
    "        print('\\nModified vote:', bow)\n",
    "        d = bow.difference( bow_org )\n",
    "        print(f'\\nAdded ({len(d)} total):', d)\n",
    "    \n",
    "        print('\\nPerson names found and extracted:', peoples )\n",
    "    \n",
    "        print(f'\\nAdding original labels to BoW ({len(bow)} total)')\n",
    "    \n",
    "    \n",
    "    \n",
    "    \n",
    "    \n",
    "    return( bow, peoples )"
   ]
  },
  {
   "cell_type": "markdown",
   "metadata": {},
   "source": [
    "## Export"
   ]
  },
  {
   "cell_type": "code",
   "execution_count": null,
   "metadata": {},
   "outputs": [],
   "source": [
    "def get_full_context( class_list, rt=0, v=True ):\n",
    "    \n",
    "    return {\n",
    "        \n",
    "        str(i):\n",
    "        \n",
    "        {\n",
    "            class_name: build_context(class_name, scope=i, rt=rt, v=v)\n",
    "            for class_name in set(class_list)\n",
    "        }\n",
    "        \n",
    "        for i in (2, 3)\n",
    "    }"
   ]
  },
  {
   "cell_type": "code",
   "execution_count": null,
   "metadata": {},
   "outputs": [],
   "source": []
  },
  {
   "cell_type": "code",
   "execution_count": null,
   "metadata": {},
   "outputs": [],
   "source": []
  },
  {
   "cell_type": "code",
   "execution_count": null,
   "metadata": {},
   "outputs": [],
   "source": []
  },
  {
   "cell_type": "code",
   "execution_count": null,
   "metadata": {},
   "outputs": [],
   "source": [
    "print('''\n",
    "Imported functions for use outside:\n",
    "\n",
    "\\tget_full_context( class_list, rt=0, v=True )\n",
    "\n",
    "\\tbuild_bow( label_list, cb_dict, v=True )\n",
    "\n",
    "\\tfind_all_occ( label_list )\n",
    "\n",
    "''')"
   ]
  }
 ],
 "metadata": {
  "kernelspec": {
   "display_name": "Python 3",
   "language": "python",
   "name": "python3"
  },
  "language_info": {
   "codemirror_mode": {
    "name": "ipython",
    "version": 3
   },
   "file_extension": ".py",
   "mimetype": "text/x-python",
   "name": "python",
   "nbconvert_exporter": "python",
   "pygments_lexer": "ipython3",
   "version": "3.7.4"
  }
 },
 "nbformat": 4,
 "nbformat_minor": 2
}
